{
 "cells": [
  {
   "cell_type": "markdown",
   "id": "b4cf384e-f8ca-488c-9414-562333370bcd",
   "metadata": {},
   "source": [
    "# Algorithmic Trading Application"
   ]
  },
  {
   "cell_type": "code",
   "execution_count": 1,
   "id": "8c608f7f-1742-44ee-becc-e26962b7a148",
   "metadata": {},
   "outputs": [],
   "source": [
    "# Import libraries and dependencies\n",
    "import os\n",
    "import requests\n",
    "import json\n",
    "import pandas as pd\n",
    "import numpy as np\n",
    "from dotenv import load_dotenv\n",
    "import alpaca_trade_api as tradeapi\n",
    "from pathlib import Path\n",
    "import cbpro\n",
    "from datetime import date\n",
    "\n",
    "%matplotlib inline"
   ]
  },
  {
   "cell_type": "markdown",
   "id": "c2024014-5f14-4410-a9f0-26f4887647e1",
   "metadata": {},
   "source": [
    "### Load environment variables and import Alpaca keys"
   ]
  },
  {
   "cell_type": "code",
   "execution_count": 2,
   "id": "26820de8-7450-441f-ad1b-b1def92d53c0",
   "metadata": {},
   "outputs": [
    {
     "data": {
      "text/plain": [
       "True"
      ]
     },
     "execution_count": 2,
     "metadata": {},
     "output_type": "execute_result"
    }
   ],
   "source": [
    "# Load the environment variables by calling the load_dotenv function\n",
    "load_dotenv()"
   ]
  },
  {
   "cell_type": "code",
   "execution_count": 3,
   "id": "bccd4037-4e46-4e32-a919-14c36228b9f4",
   "metadata": {},
   "outputs": [
    {
     "data": {
      "text/plain": [
       "str"
      ]
     },
     "metadata": {},
     "output_type": "display_data"
    },
    {
     "data": {
      "text/plain": [
       "str"
      ]
     },
     "metadata": {},
     "output_type": "display_data"
    }
   ],
   "source": [
    "# Set Alpaca API key and secret by calling the os.getenv function and referencing the environment variable names\n",
    "alpaca_api_key = os.getenv(\"ALPACA_API_KEY\")\n",
    "alpaca_secret_key = os.getenv(\"ALPACA_SECRET_KEY\")\n",
    "\n",
    "# Check the values were imported correctly by evaluating the type of each\n",
    "display(type(alpaca_api_key))\n",
    "display(type(alpaca_secret_key))"
   ]
  },
  {
   "cell_type": "markdown",
   "id": "2a7eeb82-d768-48a5-afe8-7593a274ec33",
   "metadata": {},
   "source": [
    "### Setup REST object"
   ]
  },
  {
   "cell_type": "code",
   "execution_count": 4,
   "id": "5482b3d8-fc57-4449-8508-fdef1870b651",
   "metadata": {},
   "outputs": [],
   "source": [
    "# Create an Alpaca API REST object by calling the tradeapi.REST function\n",
    "# Set the parameters to alpaca_api_key, alpaca_secret_key and api_version=\"v2\" \n",
    "alpaca = tradeapi.REST(\n",
    "    alpaca_api_key,\n",
    "    alpaca_secret_key,\n",
    "    api_version = \"v2\"\n",
    ")"
   ]
  }
 ],
 "metadata": {
  "kernelspec": {
   "display_name": "Python 3",
   "language": "python",
   "name": "python3"
  },
  "language_info": {
   "codemirror_mode": {
    "name": "ipython",
    "version": 3
   },
   "file_extension": ".py",
   "mimetype": "text/x-python",
   "name": "python",
   "nbconvert_exporter": "python",
   "pygments_lexer": "ipython3",
   "version": "3.7.10"
  }
 },
 "nbformat": 4,
 "nbformat_minor": 5
}
