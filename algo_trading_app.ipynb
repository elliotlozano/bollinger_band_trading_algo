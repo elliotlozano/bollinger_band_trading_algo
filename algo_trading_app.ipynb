{
 "cells": [
  {
   "cell_type": "markdown",
   "id": "b4cf384e-f8ca-488c-9414-562333370bcd",
   "metadata": {},
   "source": [
    "# Algorithmic Trading Application"
   ]
  },
  {
   "cell_type": "code",
   "execution_count": 1,
   "id": "234d594d-5e63-487c-a327-910bb7065b29",
   "metadata": {},
   "outputs": [],
   "source": [
    "# Import libraries and dependencies\n",
    "import os\n",
    "from dotenv import load_dotenv\n",
    "import pandas as pd\n",
    "import numpy as np\n",
    "from pathlib import Path\n",
    "\n",
    "%matplotlib inline"
   ]
  },
  {
   "cell_type": "code",
   "execution_count": null,
   "id": "f829ae42-78b9-4219-8c60-da8d8378f6a6",
   "metadata": {},
   "outputs": [],
   "source": []
  }
 ],
 "metadata": {
  "kernelspec": {
   "display_name": "Python 3",
   "language": "python",
   "name": "python3"
  },
  "language_info": {
   "codemirror_mode": {
    "name": "ipython",
    "version": 3
   },
   "file_extension": ".py",
   "mimetype": "text/x-python",
   "name": "python",
   "nbconvert_exporter": "python",
   "pygments_lexer": "ipython3",
   "version": "3.7.10"
  }
 },
 "nbformat": 4,
 "nbformat_minor": 5
}
