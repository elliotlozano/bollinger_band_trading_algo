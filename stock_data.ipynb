{
 "cells": [
  {
   "cell_type": "markdown",
   "id": "5a4d2d21-c007-4147-994f-1d31b504d30a",
   "metadata": {},
   "source": [
    "# Stock Market Data"
   ]
  },
  {
   "cell_type": "code",
   "execution_count": 1,
   "id": "0a7c0ed8-217a-4404-8748-577e8f6f6648",
   "metadata": {},
   "outputs": [],
   "source": [
    "# Import libraries and dependencies\n",
    "import os\n",
    "import pandas as pd\n",
    "from dotenv import load_dotenv\n",
    "import alpaca_trade_api as tradeapi\n",
    "import numpy as np\n",
    "from datetime import datetime, timedelta\n",
    "\n",
    "import matplotlib.pyplot as plt \n",
    "%matplotlib inline"
   ]
  },
  {
   "cell_type": "markdown",
   "id": "7a7badcb-d11d-4cab-80bf-b8509b71e424",
   "metadata": {},
   "source": [
    "### Load environment variables and import Alpaca keys"
   ]
  },
  {
   "cell_type": "code",
   "execution_count": 2,
   "id": "83e83631-d482-4dd5-9377-dd8a46810d45",
   "metadata": {},
   "outputs": [
    {
     "data": {
      "text/plain": [
       "True"
      ]
     },
     "execution_count": 2,
     "metadata": {},
     "output_type": "execute_result"
    }
   ],
   "source": [
    "# Load the environment variables by calling the load_dotenv function\n",
    "load_dotenv()"
   ]
  },
  {
   "cell_type": "code",
   "execution_count": 3,
   "id": "7ee91c28-4803-4aef-987c-24e6fb2fad36",
   "metadata": {},
   "outputs": [
    {
     "data": {
      "text/plain": [
       "str"
      ]
     },
     "metadata": {},
     "output_type": "display_data"
    },
    {
     "data": {
      "text/plain": [
       "str"
      ]
     },
     "metadata": {},
     "output_type": "display_data"
    }
   ],
   "source": [
    "# Set Alpaca API key and secret by calling the os.getenv function and referencing the environment variable names\n",
    "alpaca_api_key = os.getenv(\"ALPACA_API_KEY\")\n",
    "alpaca_secret_key = os.getenv(\"ALPACA_SECRET_KEY\")\n",
    "\n",
    "# Check the values were imported correctly by evaluating the type of each\n",
    "display(type(alpaca_api_key))\n",
    "display(type(alpaca_secret_key))"
   ]
  },
  {
   "cell_type": "markdown",
   "id": "2f8e8048-901c-4f30-b580-19de3ca98682",
   "metadata": {},
   "source": [
    "### Setup REST object"
   ]
  },
  {
   "cell_type": "code",
   "execution_count": 4,
   "id": "42058d54-d59d-4134-99cc-99a22db0a3fd",
   "metadata": {},
   "outputs": [],
   "source": [
    "# Create an Alpaca API REST object by calling the tradeapi.REST function\n",
    "# Set the parameters to alpaca_api_key, alpaca_secret_key and api_version=\"v2\" \n",
    "alpaca = tradeapi.REST(\n",
    "    alpaca_api_key,\n",
    "    alpaca_secret_key,\n",
    "    api_version = \"v2\"\n",
    ")"
   ]
  },
  {
   "cell_type": "markdown",
   "id": "a6cf88cb-f1cb-4137-8f75-861ea3fd474a",
   "metadata": {},
   "source": [
    "### Use the Alpaca SDK to make an API call"
   ]
  },
  {
   "cell_type": "code",
   "execution_count": 5,
   "id": "bad68c85-a330-4a36-a28b-b6a31f4b310e",
   "metadata": {},
   "outputs": [],
   "source": [
    "# Create a list of tickers for traditional (non-crypto) securities\n",
    "tickers = [\"DIA\", \"NDAQ\", \"SPY\"]"
   ]
  },
  {
   "cell_type": "code",
   "execution_count": 6,
   "id": "77df51bd-3bef-490e-8190-3b6f4b0f2a66",
   "metadata": {},
   "outputs": [
    {
     "name": "stdout",
     "output_type": "stream",
     "text": [
      "730 days, 0:00:00\n"
     ]
    },
    {
     "data": {
      "text/plain": [
       "'2019-10-08T02:33:14.076058-04:00'"
      ]
     },
     "metadata": {},
     "output_type": "display_data"
    },
    {
     "data": {
      "text/plain": [
       "'2021-10-07T02:33:14.076058-04:00'"
      ]
     },
     "metadata": {},
     "output_type": "display_data"
    }
   ],
   "source": [
    "# Use the datetime library (datetime and timedelta) to pull 2 years worth of data from today's date\n",
    "trading_days = 365\n",
    "delta = timedelta(days = trading_days*2)\n",
    "\n",
    "# Set start and end dates for data collection\n",
    "end_date = datetime.now()\n",
    "start_date = end_date - delta\n",
    "\n",
    "# Set to ISO format\n",
    "start_date = pd.Timestamp(start_date, tz=\"America/New_York\").isoformat()\n",
    "end_date = pd.Timestamp(end_date, tz=\"America/New_York\").isoformat()"
   ]
  },
  {
   "cell_type": "code",
   "execution_count": 7,
   "id": "d9bf556b-506c-4064-9d3e-77739236d215",
   "metadata": {},
   "outputs": [],
   "source": [
    "# Set timeframe to one day (1D)\n",
    "timeframe = \"1D\"\n",
    "\n",
    "# Set number of rows to 1000 to retrieve the maximum amount of rows\n",
    "limit_rows = 1000"
   ]
  },
  {
   "cell_type": "code",
   "execution_count": 8,
   "id": "0ed71a43-74c4-4397-a4f8-bdf67993336e",
   "metadata": {},
   "outputs": [
    {
     "data": {
      "text/html": [
       "<div>\n",
       "<style scoped>\n",
       "    .dataframe tbody tr th:only-of-type {\n",
       "        vertical-align: middle;\n",
       "    }\n",
       "\n",
       "    .dataframe tbody tr th {\n",
       "        vertical-align: top;\n",
       "    }\n",
       "\n",
       "    .dataframe thead tr th {\n",
       "        text-align: left;\n",
       "    }\n",
       "</style>\n",
       "<table border=\"1\" class=\"dataframe\">\n",
       "  <thead>\n",
       "    <tr>\n",
       "      <th></th>\n",
       "      <th colspan=\"5\" halign=\"left\">DIA</th>\n",
       "      <th colspan=\"5\" halign=\"left\">NDAQ</th>\n",
       "      <th colspan=\"5\" halign=\"left\">SPY</th>\n",
       "    </tr>\n",
       "    <tr>\n",
       "      <th></th>\n",
       "      <th>open</th>\n",
       "      <th>high</th>\n",
       "      <th>low</th>\n",
       "      <th>close</th>\n",
       "      <th>volume</th>\n",
       "      <th>open</th>\n",
       "      <th>high</th>\n",
       "      <th>low</th>\n",
       "      <th>close</th>\n",
       "      <th>volume</th>\n",
       "      <th>open</th>\n",
       "      <th>high</th>\n",
       "      <th>low</th>\n",
       "      <th>close</th>\n",
       "      <th>volume</th>\n",
       "    </tr>\n",
       "  </thead>\n",
       "  <tbody>\n",
       "    <tr>\n",
       "      <th>2019-10-08</th>\n",
       "      <td>262.6400</td>\n",
       "      <td>264.2100</td>\n",
       "      <td>261.3500</td>\n",
       "      <td>261.5763</td>\n",
       "      <td>3062403</td>\n",
       "      <td>98.640</td>\n",
       "      <td>98.640</td>\n",
       "      <td>96.88</td>\n",
       "      <td>97.08</td>\n",
       "      <td>1141451</td>\n",
       "      <td>291.04</td>\n",
       "      <td>291.85</td>\n",
       "      <td>288.4900</td>\n",
       "      <td>288.55</td>\n",
       "      <td>82885280</td>\n",
       "    </tr>\n",
       "    <tr>\n",
       "      <th>2019-10-09</th>\n",
       "      <td>263.4400</td>\n",
       "      <td>264.2400</td>\n",
       "      <td>262.4800</td>\n",
       "      <td>263.4400</td>\n",
       "      <td>1923339</td>\n",
       "      <td>97.970</td>\n",
       "      <td>98.255</td>\n",
       "      <td>96.89</td>\n",
       "      <td>97.33</td>\n",
       "      <td>1030423</td>\n",
       "      <td>290.75</td>\n",
       "      <td>292.30</td>\n",
       "      <td>290.0600</td>\n",
       "      <td>291.23</td>\n",
       "      <td>49246505</td>\n",
       "    </tr>\n",
       "    <tr>\n",
       "      <th>2019-10-10</th>\n",
       "      <td>263.2300</td>\n",
       "      <td>266.0289</td>\n",
       "      <td>263.1100</td>\n",
       "      <td>265.0500</td>\n",
       "      <td>1987784</td>\n",
       "      <td>97.370</td>\n",
       "      <td>98.910</td>\n",
       "      <td>97.02</td>\n",
       "      <td>98.54</td>\n",
       "      <td>903836</td>\n",
       "      <td>291.18</td>\n",
       "      <td>294.21</td>\n",
       "      <td>291.0000</td>\n",
       "      <td>293.24</td>\n",
       "      <td>50981567</td>\n",
       "    </tr>\n",
       "    <tr>\n",
       "      <th>2019-10-11</th>\n",
       "      <td>267.7699</td>\n",
       "      <td>270.1400</td>\n",
       "      <td>267.6200</td>\n",
       "      <td>268.0800</td>\n",
       "      <td>3904429</td>\n",
       "      <td>99.750</td>\n",
       "      <td>99.830</td>\n",
       "      <td>98.24</td>\n",
       "      <td>99.30</td>\n",
       "      <td>1322396</td>\n",
       "      <td>296.27</td>\n",
       "      <td>298.74</td>\n",
       "      <td>296.1448</td>\n",
       "      <td>296.26</td>\n",
       "      <td>83204669</td>\n",
       "    </tr>\n",
       "    <tr>\n",
       "      <th>2019-10-14</th>\n",
       "      <td>267.6000</td>\n",
       "      <td>268.7300</td>\n",
       "      <td>267.4352</td>\n",
       "      <td>267.8465</td>\n",
       "      <td>1114634</td>\n",
       "      <td>99.095</td>\n",
       "      <td>99.660</td>\n",
       "      <td>98.24</td>\n",
       "      <td>98.32</td>\n",
       "      <td>552517</td>\n",
       "      <td>295.93</td>\n",
       "      <td>296.67</td>\n",
       "      <td>295.5700</td>\n",
       "      <td>296.01</td>\n",
       "      <td>32589599</td>\n",
       "    </tr>\n",
       "  </tbody>\n",
       "</table>\n",
       "</div>"
      ],
      "text/plain": [
       "                 DIA                                           NDAQ          \\\n",
       "                open      high       low     close   volume    open    high   \n",
       "2019-10-08  262.6400  264.2100  261.3500  261.5763  3062403  98.640  98.640   \n",
       "2019-10-09  263.4400  264.2400  262.4800  263.4400  1923339  97.970  98.255   \n",
       "2019-10-10  263.2300  266.0289  263.1100  265.0500  1987784  97.370  98.910   \n",
       "2019-10-11  267.7699  270.1400  267.6200  268.0800  3904429  99.750  99.830   \n",
       "2019-10-14  267.6000  268.7300  267.4352  267.8465  1114634  99.095  99.660   \n",
       "\n",
       "                                      SPY                                      \n",
       "              low  close   volume    open    high       low   close    volume  \n",
       "2019-10-08  96.88  97.08  1141451  291.04  291.85  288.4900  288.55  82885280  \n",
       "2019-10-09  96.89  97.33  1030423  290.75  292.30  290.0600  291.23  49246505  \n",
       "2019-10-10  97.02  98.54   903836  291.18  294.21  291.0000  293.24  50981567  \n",
       "2019-10-11  98.24  99.30  1322396  296.27  298.74  296.1448  296.26  83204669  \n",
       "2019-10-14  98.24  98.32   552517  295.93  296.67  295.5700  296.01  32589599  "
      ]
     },
     "metadata": {},
     "output_type": "display_data"
    },
    {
     "data": {
      "text/html": [
       "<div>\n",
       "<style scoped>\n",
       "    .dataframe tbody tr th:only-of-type {\n",
       "        vertical-align: middle;\n",
       "    }\n",
       "\n",
       "    .dataframe tbody tr th {\n",
       "        vertical-align: top;\n",
       "    }\n",
       "\n",
       "    .dataframe thead tr th {\n",
       "        text-align: left;\n",
       "    }\n",
       "</style>\n",
       "<table border=\"1\" class=\"dataframe\">\n",
       "  <thead>\n",
       "    <tr>\n",
       "      <th></th>\n",
       "      <th colspan=\"5\" halign=\"left\">DIA</th>\n",
       "      <th colspan=\"5\" halign=\"left\">NDAQ</th>\n",
       "      <th colspan=\"5\" halign=\"left\">SPY</th>\n",
       "    </tr>\n",
       "    <tr>\n",
       "      <th></th>\n",
       "      <th>open</th>\n",
       "      <th>high</th>\n",
       "      <th>low</th>\n",
       "      <th>close</th>\n",
       "      <th>volume</th>\n",
       "      <th>open</th>\n",
       "      <th>high</th>\n",
       "      <th>low</th>\n",
       "      <th>close</th>\n",
       "      <th>volume</th>\n",
       "      <th>open</th>\n",
       "      <th>high</th>\n",
       "      <th>low</th>\n",
       "      <th>close</th>\n",
       "      <th>volume</th>\n",
       "    </tr>\n",
       "  </thead>\n",
       "  <tbody>\n",
       "    <tr>\n",
       "      <th>2021-09-30</th>\n",
       "      <td>345.08</td>\n",
       "      <td>345.4400</td>\n",
       "      <td>338.11</td>\n",
       "      <td>338.28</td>\n",
       "      <td>7371559</td>\n",
       "      <td>195.10</td>\n",
       "      <td>197.334</td>\n",
       "      <td>192.92</td>\n",
       "      <td>193.02</td>\n",
       "      <td>848464</td>\n",
       "      <td>436.02</td>\n",
       "      <td>436.7700</td>\n",
       "      <td>428.78</td>\n",
       "      <td>429.17</td>\n",
       "      <td>115315276</td>\n",
       "    </tr>\n",
       "    <tr>\n",
       "      <th>2021-10-01</th>\n",
       "      <td>340.00</td>\n",
       "      <td>344.7800</td>\n",
       "      <td>337.68</td>\n",
       "      <td>343.19</td>\n",
       "      <td>5920343</td>\n",
       "      <td>194.05</td>\n",
       "      <td>194.750</td>\n",
       "      <td>190.66</td>\n",
       "      <td>193.84</td>\n",
       "      <td>670129</td>\n",
       "      <td>430.98</td>\n",
       "      <td>436.0329</td>\n",
       "      <td>427.24</td>\n",
       "      <td>434.19</td>\n",
       "      <td>110774792</td>\n",
       "    </tr>\n",
       "    <tr>\n",
       "      <th>2021-10-04</th>\n",
       "      <td>342.64</td>\n",
       "      <td>344.0300</td>\n",
       "      <td>338.07</td>\n",
       "      <td>340.00</td>\n",
       "      <td>6743957</td>\n",
       "      <td>193.05</td>\n",
       "      <td>195.330</td>\n",
       "      <td>188.74</td>\n",
       "      <td>188.94</td>\n",
       "      <td>892987</td>\n",
       "      <td>433.00</td>\n",
       "      <td>433.9600</td>\n",
       "      <td>426.36</td>\n",
       "      <td>428.69</td>\n",
       "      <td>112134374</td>\n",
       "    </tr>\n",
       "    <tr>\n",
       "      <th>2021-10-05</th>\n",
       "      <td>341.15</td>\n",
       "      <td>344.8700</td>\n",
       "      <td>340.47</td>\n",
       "      <td>343.14</td>\n",
       "      <td>3709903</td>\n",
       "      <td>189.42</td>\n",
       "      <td>195.580</td>\n",
       "      <td>189.26</td>\n",
       "      <td>195.26</td>\n",
       "      <td>879657</td>\n",
       "      <td>430.24</td>\n",
       "      <td>435.4900</td>\n",
       "      <td>429.39</td>\n",
       "      <td>433.05</td>\n",
       "      <td>82381830</td>\n",
       "    </tr>\n",
       "    <tr>\n",
       "      <th>2021-10-06</th>\n",
       "      <td>340.48</td>\n",
       "      <td>344.2999</td>\n",
       "      <td>338.47</td>\n",
       "      <td>344.16</td>\n",
       "      <td>5949679</td>\n",
       "      <td>193.99</td>\n",
       "      <td>195.900</td>\n",
       "      <td>192.30</td>\n",
       "      <td>194.58</td>\n",
       "      <td>833930</td>\n",
       "      <td>429.27</td>\n",
       "      <td>435.1199</td>\n",
       "      <td>427.54</td>\n",
       "      <td>434.92</td>\n",
       "      <td>99477866</td>\n",
       "    </tr>\n",
       "  </tbody>\n",
       "</table>\n",
       "</div>"
      ],
      "text/plain": [
       "               DIA                                       NDAQ           \\\n",
       "              open      high     low   close   volume    open     high   \n",
       "2021-09-30  345.08  345.4400  338.11  338.28  7371559  195.10  197.334   \n",
       "2021-10-01  340.00  344.7800  337.68  343.19  5920343  194.05  194.750   \n",
       "2021-10-04  342.64  344.0300  338.07  340.00  6743957  193.05  195.330   \n",
       "2021-10-05  341.15  344.8700  340.47  343.14  3709903  189.42  195.580   \n",
       "2021-10-06  340.48  344.2999  338.47  344.16  5949679  193.99  195.900   \n",
       "\n",
       "                                       SPY                            \\\n",
       "               low   close  volume    open      high     low   close   \n",
       "2021-09-30  192.92  193.02  848464  436.02  436.7700  428.78  429.17   \n",
       "2021-10-01  190.66  193.84  670129  430.98  436.0329  427.24  434.19   \n",
       "2021-10-04  188.74  188.94  892987  433.00  433.9600  426.36  428.69   \n",
       "2021-10-05  189.26  195.26  879657  430.24  435.4900  429.39  433.05   \n",
       "2021-10-06  192.30  194.58  833930  429.27  435.1199  427.54  434.92   \n",
       "\n",
       "                       \n",
       "               volume  \n",
       "2021-09-30  115315276  \n",
       "2021-10-01  110774792  \n",
       "2021-10-04  112134374  \n",
       "2021-10-05   82381830  \n",
       "2021-10-06   99477866  "
      ]
     },
     "metadata": {},
     "output_type": "display_data"
    }
   ],
   "source": [
    "# Use the Alpaca get_barset function to gather the price information for each ticker\n",
    "stock_prices = alpaca.get_barset(\n",
    "    tickers,\n",
    "    timeframe,\n",
    "    start = start_date,\n",
    "    end = end_date,\n",
    "    limit = limit_rows\n",
    ").df\n",
    "\n",
    "# Keep only the date component of the DateTime index\n",
    "stock_prices.index = stock_prices.index.date\n",
    "\n",
    "# Review the first five rows of the resulting DataFrame \n",
    "display(stock_prices.head())\n",
    "display(stock_prices.tail())"
   ]
  },
  {
   "cell_type": "markdown",
   "id": "294d15a1-4597-4449-8451-ac6c2e7369da",
   "metadata": {},
   "source": [
    "### Separate into individual DataFrames that contain only close prices"
   ]
  },
  {
   "cell_type": "markdown",
   "id": "875e004e-5f02-4530-89bf-89182c318069",
   "metadata": {},
   "source": [
    "Dow Jones Industrial Average (DIA)"
   ]
  },
  {
   "cell_type": "code",
   "execution_count": 9,
   "id": "46299e4a-d610-4c8f-a1a8-e929e462218a",
   "metadata": {},
   "outputs": [
    {
     "data": {
      "text/html": [
       "<div>\n",
       "<style scoped>\n",
       "    .dataframe tbody tr th:only-of-type {\n",
       "        vertical-align: middle;\n",
       "    }\n",
       "\n",
       "    .dataframe tbody tr th {\n",
       "        vertical-align: top;\n",
       "    }\n",
       "\n",
       "    .dataframe thead th {\n",
       "        text-align: right;\n",
       "    }\n",
       "</style>\n",
       "<table border=\"1\" class=\"dataframe\">\n",
       "  <thead>\n",
       "    <tr style=\"text-align: right;\">\n",
       "      <th></th>\n",
       "      <th>close</th>\n",
       "      <th>volume</th>\n",
       "    </tr>\n",
       "  </thead>\n",
       "  <tbody>\n",
       "    <tr>\n",
       "      <th>2019-10-08</th>\n",
       "      <td>261.5763</td>\n",
       "      <td>153.12015</td>\n",
       "    </tr>\n",
       "    <tr>\n",
       "      <th>2019-10-09</th>\n",
       "      <td>263.4400</td>\n",
       "      <td>96.16695</td>\n",
       "    </tr>\n",
       "    <tr>\n",
       "      <th>2019-10-10</th>\n",
       "      <td>265.0500</td>\n",
       "      <td>99.38920</td>\n",
       "    </tr>\n",
       "    <tr>\n",
       "      <th>2019-10-11</th>\n",
       "      <td>268.0800</td>\n",
       "      <td>195.22145</td>\n",
       "    </tr>\n",
       "    <tr>\n",
       "      <th>2019-10-14</th>\n",
       "      <td>267.8465</td>\n",
       "      <td>55.73170</td>\n",
       "    </tr>\n",
       "  </tbody>\n",
       "</table>\n",
       "</div>"
      ],
      "text/plain": [
       "               close     volume\n",
       "2019-10-08  261.5763  153.12015\n",
       "2019-10-09  263.4400   96.16695\n",
       "2019-10-10  265.0500   99.38920\n",
       "2019-10-11  268.0800  195.22145\n",
       "2019-10-14  267.8465   55.73170"
      ]
     },
     "execution_count": 9,
     "metadata": {},
     "output_type": "execute_result"
    }
   ],
   "source": [
    "# Create DataFrame for DIA stock index\n",
    "dia_prices = stock_prices[\"DIA\"]\n",
    "\n",
    "# Keep only the close prices and volume\n",
    "dia_df = dia_prices.drop(columns = [\"open\", \"high\", \"low\"])\n",
    "\n",
    "\n",
    "# Normalize all metrics by dividing volume by 20,000\n",
    "dia_df[\"volume\"] = dia_df[\"volume\"] / 20000\n",
    "\n",
    "# Display first 5 rows\n",
    "dia_df.head()"
   ]
  },
  {
   "cell_type": "markdown",
   "id": "6677592a-9ab7-48cd-9cf3-b9c9dd74f7b5",
   "metadata": {},
   "source": [
    "Nasdaq (NDAQ)"
   ]
  },
  {
   "cell_type": "code",
   "execution_count": 10,
   "id": "f9364767-2837-48d2-be79-6a52c1d4e312",
   "metadata": {},
   "outputs": [
    {
     "data": {
      "text/html": [
       "<div>\n",
       "<style scoped>\n",
       "    .dataframe tbody tr th:only-of-type {\n",
       "        vertical-align: middle;\n",
       "    }\n",
       "\n",
       "    .dataframe tbody tr th {\n",
       "        vertical-align: top;\n",
       "    }\n",
       "\n",
       "    .dataframe thead th {\n",
       "        text-align: right;\n",
       "    }\n",
       "</style>\n",
       "<table border=\"1\" class=\"dataframe\">\n",
       "  <thead>\n",
       "    <tr style=\"text-align: right;\">\n",
       "      <th></th>\n",
       "      <th>close</th>\n",
       "      <th>volume</th>\n",
       "    </tr>\n",
       "  </thead>\n",
       "  <tbody>\n",
       "    <tr>\n",
       "      <th>2019-10-08</th>\n",
       "      <td>97.08</td>\n",
       "      <td>114.1451</td>\n",
       "    </tr>\n",
       "    <tr>\n",
       "      <th>2019-10-09</th>\n",
       "      <td>97.33</td>\n",
       "      <td>103.0423</td>\n",
       "    </tr>\n",
       "    <tr>\n",
       "      <th>2019-10-10</th>\n",
       "      <td>98.54</td>\n",
       "      <td>90.3836</td>\n",
       "    </tr>\n",
       "    <tr>\n",
       "      <th>2019-10-11</th>\n",
       "      <td>99.30</td>\n",
       "      <td>132.2396</td>\n",
       "    </tr>\n",
       "    <tr>\n",
       "      <th>2019-10-14</th>\n",
       "      <td>98.32</td>\n",
       "      <td>55.2517</td>\n",
       "    </tr>\n",
       "  </tbody>\n",
       "</table>\n",
       "</div>"
      ],
      "text/plain": [
       "            close    volume\n",
       "2019-10-08  97.08  114.1451\n",
       "2019-10-09  97.33  103.0423\n",
       "2019-10-10  98.54   90.3836\n",
       "2019-10-11  99.30  132.2396\n",
       "2019-10-14  98.32   55.2517"
      ]
     },
     "execution_count": 10,
     "metadata": {},
     "output_type": "execute_result"
    }
   ],
   "source": [
    "# Create DataFrame for NDAQ stock index\n",
    "ndaq_prices = stock_prices[\"NDAQ\"]\n",
    "\n",
    "# Keep only the close prices and volume\n",
    "ndaq_df = ndaq_prices.drop(columns = [\"open\", \"high\", \"low\"])\n",
    "\n",
    "# Normalize all metrics by dividing volume by 10,000\n",
    "ndaq_df[\"volume\"] = ndaq_df[\"volume\"] / 10000\n",
    "\n",
    "# Display first 5 rows\n",
    "ndaq_df.head()"
   ]
  },
  {
   "cell_type": "markdown",
   "id": "5f3762ea-4906-40e9-9989-8f3adedb4255",
   "metadata": {},
   "source": [
    "S&P 500 (SPY)"
   ]
  },
  {
   "cell_type": "code",
   "execution_count": 11,
   "id": "a91d6c53-2741-4bd5-94f3-2229694d5fe3",
   "metadata": {},
   "outputs": [
    {
     "data": {
      "text/html": [
       "<div>\n",
       "<style scoped>\n",
       "    .dataframe tbody tr th:only-of-type {\n",
       "        vertical-align: middle;\n",
       "    }\n",
       "\n",
       "    .dataframe tbody tr th {\n",
       "        vertical-align: top;\n",
       "    }\n",
       "\n",
       "    .dataframe thead th {\n",
       "        text-align: right;\n",
       "    }\n",
       "</style>\n",
       "<table border=\"1\" class=\"dataframe\">\n",
       "  <thead>\n",
       "    <tr style=\"text-align: right;\">\n",
       "      <th></th>\n",
       "      <th>close</th>\n",
       "      <th>volume</th>\n",
       "    </tr>\n",
       "  </thead>\n",
       "  <tbody>\n",
       "    <tr>\n",
       "      <th>2019-10-08</th>\n",
       "      <td>288.55</td>\n",
       "      <td>236.815086</td>\n",
       "    </tr>\n",
       "    <tr>\n",
       "      <th>2019-10-09</th>\n",
       "      <td>291.23</td>\n",
       "      <td>140.704300</td>\n",
       "    </tr>\n",
       "    <tr>\n",
       "      <th>2019-10-10</th>\n",
       "      <td>293.24</td>\n",
       "      <td>145.661620</td>\n",
       "    </tr>\n",
       "    <tr>\n",
       "      <th>2019-10-11</th>\n",
       "      <td>296.26</td>\n",
       "      <td>237.727626</td>\n",
       "    </tr>\n",
       "    <tr>\n",
       "      <th>2019-10-14</th>\n",
       "      <td>296.01</td>\n",
       "      <td>93.113140</td>\n",
       "    </tr>\n",
       "  </tbody>\n",
       "</table>\n",
       "</div>"
      ],
      "text/plain": [
       "             close      volume\n",
       "2019-10-08  288.55  236.815086\n",
       "2019-10-09  291.23  140.704300\n",
       "2019-10-10  293.24  145.661620\n",
       "2019-10-11  296.26  237.727626\n",
       "2019-10-14  296.01   93.113140"
      ]
     },
     "execution_count": 11,
     "metadata": {},
     "output_type": "execute_result"
    }
   ],
   "source": [
    "# Create DataFrame for SPY stock index\n",
    "spy_prices = stock_prices[\"SPY\"]\n",
    "\n",
    "# Keep only the close prices and volume\n",
    "spy_df = spy_prices.drop(columns = [\"open\", \"high\", \"low\"])\n",
    "\n",
    "# Normalize all metrics by dividing volume by 350,000\n",
    "spy_df[\"volume\"] = spy_df[\"volume\"] / 350000\n",
    "\n",
    "# Display first 5 rows\n",
    "spy_df.head()"
   ]
  },
  {
   "cell_type": "markdown",
   "id": "46e7c382-2674-4a80-8a60-476c9a6ae547",
   "metadata": {},
   "source": [
    "### BOLLINGER BAND STRATEGY"
   ]
  },
  {
   "cell_type": "code",
   "execution_count": 12,
   "id": "9e7bf65b-8ebd-44fc-82aa-530b6afeb937",
   "metadata": {},
   "outputs": [],
   "source": [
    "# Create a function that generates custom DataFrames of Bollinger Band metrics (close, sma, lower, upper, volume)\n",
    "def bollinger(data, window):\n",
    "    # Create the DataFrame\n",
    "    bollinger_df = pd.DataFrame()\n",
    "    \n",
    "    # Add columns to display close prices and volume from called data\n",
    "    bollinger_df[\"close\"] = data[\"close\"]\n",
    "    bollinger_df[\"volume\"] = data[\"volume\"]\n",
    "    \n",
    "    # Use the Pandas 'rolling' and 'mean' functions to calculate an SMA based on a given window\n",
    "    # Add the data to a column called 'sma'\n",
    "    sma = data[\"close\"].rolling(window = window).mean()\n",
    "    bollinger_df[\"sma\"] = sma\n",
    "    \n",
    "    # Use the Pandas 'rolling' and 'std' functions to calculate a rolling std based on a given window\n",
    "    # Add the respective data to columns 'lower' and 'upper'  \n",
    "    std = data[\"close\"].rolling(window = window).std()\n",
    "    bollinger_df[\"lower\"] = sma - std * 2\n",
    "    bollinger_df[\"upper\"] = sma + std * 2\n",
    "    \n",
    "    print(f\"Data is based on a {window}-day SMA.\")\n",
    "    \n",
    "    return bollinger_df"
   ]
  },
  {
   "cell_type": "code",
   "execution_count": 13,
   "id": "bbc4ff0f-f29c-4c72-8aba-3a6a9cbc9124",
   "metadata": {},
   "outputs": [
    {
     "name": "stdout",
     "output_type": "stream",
     "text": [
      "Data is based on a 20-day SMA.\n"
     ]
    },
    {
     "data": {
      "text/html": [
       "<div>\n",
       "<style scoped>\n",
       "    .dataframe tbody tr th:only-of-type {\n",
       "        vertical-align: middle;\n",
       "    }\n",
       "\n",
       "    .dataframe tbody tr th {\n",
       "        vertical-align: top;\n",
       "    }\n",
       "\n",
       "    .dataframe thead th {\n",
       "        text-align: right;\n",
       "    }\n",
       "</style>\n",
       "<table border=\"1\" class=\"dataframe\">\n",
       "  <thead>\n",
       "    <tr style=\"text-align: right;\">\n",
       "      <th></th>\n",
       "      <th>close</th>\n",
       "      <th>volume</th>\n",
       "      <th>sma</th>\n",
       "      <th>lower</th>\n",
       "      <th>upper</th>\n",
       "    </tr>\n",
       "  </thead>\n",
       "  <tbody>\n",
       "    <tr>\n",
       "      <th>2019-10-08</th>\n",
       "      <td>288.55</td>\n",
       "      <td>236.815086</td>\n",
       "      <td>NaN</td>\n",
       "      <td>NaN</td>\n",
       "      <td>NaN</td>\n",
       "    </tr>\n",
       "    <tr>\n",
       "      <th>2019-10-09</th>\n",
       "      <td>291.23</td>\n",
       "      <td>140.704300</td>\n",
       "      <td>NaN</td>\n",
       "      <td>NaN</td>\n",
       "      <td>NaN</td>\n",
       "    </tr>\n",
       "    <tr>\n",
       "      <th>2019-10-10</th>\n",
       "      <td>293.24</td>\n",
       "      <td>145.661620</td>\n",
       "      <td>NaN</td>\n",
       "      <td>NaN</td>\n",
       "      <td>NaN</td>\n",
       "    </tr>\n",
       "    <tr>\n",
       "      <th>2019-10-11</th>\n",
       "      <td>296.26</td>\n",
       "      <td>237.727626</td>\n",
       "      <td>NaN</td>\n",
       "      <td>NaN</td>\n",
       "      <td>NaN</td>\n",
       "    </tr>\n",
       "    <tr>\n",
       "      <th>2019-10-14</th>\n",
       "      <td>296.01</td>\n",
       "      <td>93.113140</td>\n",
       "      <td>NaN</td>\n",
       "      <td>NaN</td>\n",
       "      <td>NaN</td>\n",
       "    </tr>\n",
       "  </tbody>\n",
       "</table>\n",
       "</div>"
      ],
      "text/plain": [
       "             close      volume  sma  lower  upper\n",
       "2019-10-08  288.55  236.815086  NaN    NaN    NaN\n",
       "2019-10-09  291.23  140.704300  NaN    NaN    NaN\n",
       "2019-10-10  293.24  145.661620  NaN    NaN    NaN\n",
       "2019-10-11  296.26  237.727626  NaN    NaN    NaN\n",
       "2019-10-14  296.01   93.113140  NaN    NaN    NaN"
      ]
     },
     "metadata": {},
     "output_type": "display_data"
    },
    {
     "data": {
      "text/html": [
       "<div>\n",
       "<style scoped>\n",
       "    .dataframe tbody tr th:only-of-type {\n",
       "        vertical-align: middle;\n",
       "    }\n",
       "\n",
       "    .dataframe tbody tr th {\n",
       "        vertical-align: top;\n",
       "    }\n",
       "\n",
       "    .dataframe thead th {\n",
       "        text-align: right;\n",
       "    }\n",
       "</style>\n",
       "<table border=\"1\" class=\"dataframe\">\n",
       "  <thead>\n",
       "    <tr style=\"text-align: right;\">\n",
       "      <th></th>\n",
       "      <th>close</th>\n",
       "      <th>volume</th>\n",
       "      <th>sma</th>\n",
       "      <th>lower</th>\n",
       "      <th>upper</th>\n",
       "    </tr>\n",
       "  </thead>\n",
       "  <tbody>\n",
       "    <tr>\n",
       "      <th>2021-09-30</th>\n",
       "      <td>429.17</td>\n",
       "      <td>329.472217</td>\n",
       "      <td>443.14925</td>\n",
       "      <td>428.753265</td>\n",
       "      <td>457.545235</td>\n",
       "    </tr>\n",
       "    <tr>\n",
       "      <th>2021-10-01</th>\n",
       "      <td>434.19</td>\n",
       "      <td>316.499406</td>\n",
       "      <td>442.19900</td>\n",
       "      <td>428.088889</td>\n",
       "      <td>456.309111</td>\n",
       "    </tr>\n",
       "    <tr>\n",
       "      <th>2021-10-04</th>\n",
       "      <td>428.69</td>\n",
       "      <td>320.383926</td>\n",
       "      <td>440.98050</td>\n",
       "      <td>426.612851</td>\n",
       "      <td>455.348149</td>\n",
       "    </tr>\n",
       "    <tr>\n",
       "      <th>2021-10-05</th>\n",
       "      <td>433.05</td>\n",
       "      <td>235.376657</td>\n",
       "      <td>440.05700</td>\n",
       "      <td>426.175592</td>\n",
       "      <td>453.938408</td>\n",
       "    </tr>\n",
       "    <tr>\n",
       "      <th>2021-10-06</th>\n",
       "      <td>434.92</td>\n",
       "      <td>284.222474</td>\n",
       "      <td>439.25500</td>\n",
       "      <td>426.196885</td>\n",
       "      <td>452.313115</td>\n",
       "    </tr>\n",
       "  </tbody>\n",
       "</table>\n",
       "</div>"
      ],
      "text/plain": [
       "             close      volume        sma       lower       upper\n",
       "2021-09-30  429.17  329.472217  443.14925  428.753265  457.545235\n",
       "2021-10-01  434.19  316.499406  442.19900  428.088889  456.309111\n",
       "2021-10-04  428.69  320.383926  440.98050  426.612851  455.348149\n",
       "2021-10-05  433.05  235.376657  440.05700  426.175592  453.938408\n",
       "2021-10-06  434.92  284.222474  439.25500  426.196885  452.313115"
      ]
     },
     "metadata": {},
     "output_type": "display_data"
    }
   ],
   "source": [
    "# Generate a Bollinger Band DataFrame for SPY. Play around with differetn values for 'window'.\n",
    "spy_bb = bollinger(spy_df, 20)\n",
    "\n",
    "# Display DataFrame\n",
    "display(spy_bb.head())\n",
    "display(spy_bb.tail())"
   ]
  },
  {
   "cell_type": "code",
   "execution_count": 58,
   "id": "21542fe2-efa6-4583-810b-5173883e4d48",
   "metadata": {},
   "outputs": [
    {
     "data": {
      "text/plain": [
       "<matplotlib.legend.Legend at 0x127a0cd10>"
      ]
     },
     "execution_count": 58,
     "metadata": {},
     "output_type": "execute_result"
    },
    {
     "data": {
      "image/png": "[encoded data removed]",
      "text/plain": [
       "<Figure size 1080x720 with 1 Axes>"
      ]
     },
     "metadata": {
      "needs_background": "light"
     },
     "output_type": "display_data"
    }
   ],
   "source": [
    "# Plot the DataFrame to visualize the SMA and Bollinger Bands using axes objects (ax=ax)\n",
    "ax = spy_bb[\"close\"].plot(\n",
    "    figsize = (15,10),\n",
    "    title = \"SPY Bollinger Bands\",\n",
    "    alpha = 0.5, \n",
    "    linewidth = 1.5\n",
    ")\n",
    "\n",
    "# Overlay each column as a separate line on the same plot\n",
    "spy_bb[\"upper\"].plot(ax=ax, linestyle = \"--\", linewidth = 1, color = \"red\")\n",
    "spy_bb[\"sma\"].plot(ax=ax, linestyle = \"-\", linewidth = .8, color = \"black\")\n",
    "spy_bb[\"lower\"].plot(ax=ax, linestyle = \"--\", linewidth = 1, color = \"orange\")\n",
    "#spy_bb[\"volume\"].plot(ax=ax)\n",
    "\n",
    "# Call the legend for the plot\n",
    "ax.legend([\"Close Price\", \"Upper Band\", \"SMA\", \"Lower Band\"])\n"
   ]
  },
  {
   "cell_type": "code",
   "execution_count": 15,
   "id": "5dde63b2-939e-4fcc-a0ba-55575819e467",
   "metadata": {},
   "outputs": [],
   "source": [
    "# # Generate a Bollinger Band DataFrame for NDAQ. Play around with differetn values for 'window'.\n",
    "# ndaq_bb = bollinger(ndaq_df, 20)\n",
    "\n",
    "# # Display DataFrame\n",
    "# ndaq_bb"
   ]
  },
  {
   "cell_type": "code",
   "execution_count": 16,
   "id": "ad97e227-68b9-486b-b725-14fc855b8319",
   "metadata": {},
   "outputs": [],
   "source": [
    "# # Plot the DataFrame to visualize the SMA and Bollinger Bands\n",
    "# ndaq_bb.plot(figsize=(25,10))"
   ]
  },
  {
   "cell_type": "code",
   "execution_count": 17,
   "id": "f583ceea-fd4b-4174-9c11-3a0e6f91c71e",
   "metadata": {},
   "outputs": [],
   "source": [
    "# # Generate a Bollinger Band DataFrame for NDAQ. Play around with differetn values for 'window'.\n",
    "# dia_bb = bollinger(dia_df, 20)\n",
    "\n",
    "# # Display DataFrame\n",
    "# dia_bb"
   ]
  },
  {
   "cell_type": "code",
   "execution_count": 18,
   "id": "d3f8b9a0-c426-414b-a6af-3d7d305854ad",
   "metadata": {},
   "outputs": [],
   "source": [
    "# # Plot the DataFrame to visualize the SMA and Bollinger Bands\n",
    "# dia_bb.plot(figsize=(25,10))"
   ]
  },
  {
   "cell_type": "code",
   "execution_count": 19,
   "id": "6a3f3592-db74-4566-873c-2689be5ff806",
   "metadata": {},
   "outputs": [],
   "source": [
    "def implement_bb_strategy(data, lower_bb, upper_bb):\n",
    "    buy_price = []\n",
    "    sell_price = []\n",
    "    bb_signal = []\n",
    "    signal = 0\n",
    "    \n",
    "    for i in range(len(data)):\n",
    "        if data[i-1] > lower_bb[i-1] and data[i] < lower_bb[i]:\n",
    "            if signal != 1:\n",
    "                buy_price.append(data[i])\n",
    "                sell_price.append(np.nan)\n",
    "                signal = 1\n",
    "                bb_signal.append(signal)\n",
    "            else:\n",
    "                buy_price.append(np.nan)\n",
    "                sell_price.append(np.nan)\n",
    "                bb_signal.append(0)\n",
    "        elif data[i-1] < upper_bb[i-1] and data[i] > upper_bb[i]:\n",
    "            if signal != -1:\n",
    "                buy_price.append(np.nan)\n",
    "                sell_price.append(data[i])\n",
    "                signal = -1\n",
    "                bb_signal.append(signal)\n",
    "            else:\n",
    "                buy_price.append(np.nan)\n",
    "                sell_price.append(np.nan)\n",
    "                bb_signal.append(0)\n",
    "        else:\n",
    "            buy_price.append(np.nan)\n",
    "            sell_price.append(np.nan)\n",
    "            bb_signal.append(0)\n",
    "            \n",
    "    return buy_price, sell_price, bb_signal"
   ]
  },
  {
   "cell_type": "code",
   "execution_count": 20,
   "id": "2015210a-18a2-4bc5-8d08-b7262f8bffff",
   "metadata": {},
   "outputs": [
    {
     "data": {
      "text/html": [
       "<div>\n",
       "<style scoped>\n",
       "    .dataframe tbody tr th:only-of-type {\n",
       "        vertical-align: middle;\n",
       "    }\n",
       "\n",
       "    .dataframe tbody tr th {\n",
       "        vertical-align: top;\n",
       "    }\n",
       "\n",
       "    .dataframe thead th {\n",
       "        text-align: right;\n",
       "    }\n",
       "</style>\n",
       "<table border=\"1\" class=\"dataframe\">\n",
       "  <thead>\n",
       "    <tr style=\"text-align: right;\">\n",
       "      <th></th>\n",
       "      <th>close</th>\n",
       "      <th>buy_price</th>\n",
       "      <th>sell_price</th>\n",
       "      <th>bb_signal</th>\n",
       "    </tr>\n",
       "  </thead>\n",
       "  <tbody>\n",
       "    <tr>\n",
       "      <th>2019-10-08</th>\n",
       "      <td>288.55</td>\n",
       "      <td>NaN</td>\n",
       "      <td>NaN</td>\n",
       "      <td>0</td>\n",
       "    </tr>\n",
       "    <tr>\n",
       "      <th>2019-10-09</th>\n",
       "      <td>291.23</td>\n",
       "      <td>NaN</td>\n",
       "      <td>NaN</td>\n",
       "      <td>0</td>\n",
       "    </tr>\n",
       "    <tr>\n",
       "      <th>2019-10-10</th>\n",
       "      <td>293.24</td>\n",
       "      <td>NaN</td>\n",
       "      <td>NaN</td>\n",
       "      <td>0</td>\n",
       "    </tr>\n",
       "    <tr>\n",
       "      <th>2019-10-11</th>\n",
       "      <td>296.26</td>\n",
       "      <td>NaN</td>\n",
       "      <td>NaN</td>\n",
       "      <td>0</td>\n",
       "    </tr>\n",
       "    <tr>\n",
       "      <th>2019-10-14</th>\n",
       "      <td>296.01</td>\n",
       "      <td>NaN</td>\n",
       "      <td>NaN</td>\n",
       "      <td>0</td>\n",
       "    </tr>\n",
       "  </tbody>\n",
       "</table>\n",
       "</div>"
      ],
      "text/plain": [
       "             close  buy_price  sell_price  bb_signal\n",
       "2019-10-08  288.55        NaN         NaN          0\n",
       "2019-10-09  291.23        NaN         NaN          0\n",
       "2019-10-10  293.24        NaN         NaN          0\n",
       "2019-10-11  296.26        NaN         NaN          0\n",
       "2019-10-14  296.01        NaN         NaN          0"
      ]
     },
     "metadata": {},
     "output_type": "display_data"
    },
    {
     "data": {
      "text/html": [
       "<div>\n",
       "<style scoped>\n",
       "    .dataframe tbody tr th:only-of-type {\n",
       "        vertical-align: middle;\n",
       "    }\n",
       "\n",
       "    .dataframe tbody tr th {\n",
       "        vertical-align: top;\n",
       "    }\n",
       "\n",
       "    .dataframe thead th {\n",
       "        text-align: right;\n",
       "    }\n",
       "</style>\n",
       "<table border=\"1\" class=\"dataframe\">\n",
       "  <thead>\n",
       "    <tr style=\"text-align: right;\">\n",
       "      <th></th>\n",
       "      <th>close</th>\n",
       "      <th>buy_price</th>\n",
       "      <th>sell_price</th>\n",
       "      <th>bb_signal</th>\n",
       "    </tr>\n",
       "  </thead>\n",
       "  <tbody>\n",
       "    <tr>\n",
       "      <th>2021-09-30</th>\n",
       "      <td>429.17</td>\n",
       "      <td>NaN</td>\n",
       "      <td>NaN</td>\n",
       "      <td>0</td>\n",
       "    </tr>\n",
       "    <tr>\n",
       "      <th>2021-10-01</th>\n",
       "      <td>434.19</td>\n",
       "      <td>NaN</td>\n",
       "      <td>NaN</td>\n",
       "      <td>0</td>\n",
       "    </tr>\n",
       "    <tr>\n",
       "      <th>2021-10-04</th>\n",
       "      <td>428.69</td>\n",
       "      <td>NaN</td>\n",
       "      <td>NaN</td>\n",
       "      <td>0</td>\n",
       "    </tr>\n",
       "    <tr>\n",
       "      <th>2021-10-05</th>\n",
       "      <td>433.05</td>\n",
       "      <td>NaN</td>\n",
       "      <td>NaN</td>\n",
       "      <td>0</td>\n",
       "    </tr>\n",
       "    <tr>\n",
       "      <th>2021-10-06</th>\n",
       "      <td>434.92</td>\n",
       "      <td>NaN</td>\n",
       "      <td>NaN</td>\n",
       "      <td>0</td>\n",
       "    </tr>\n",
       "  </tbody>\n",
       "</table>\n",
       "</div>"
      ],
      "text/plain": [
       "             close  buy_price  sell_price  bb_signal\n",
       "2021-09-30  429.17        NaN         NaN          0\n",
       "2021-10-01  434.19        NaN         NaN          0\n",
       "2021-10-04  428.69        NaN         NaN          0\n",
       "2021-10-05  433.05        NaN         NaN          0\n",
       "2021-10-06  434.92        NaN         NaN          0"
      ]
     },
     "metadata": {},
     "output_type": "display_data"
    }
   ],
   "source": [
    "buy_price, sell_price, bb_signal = implement_bb_strategy(spy_bb[\"close\"], spy_bb[\"lower\"], spy_bb[\"upper\"])\n",
    "\n",
    "strategy_df = pd.DataFrame()\n",
    "strategy_df[\"close\"] = spy_bb[\"close\"]\n",
    "\n",
    "strategy_df[\"buy_price\"] = buy_price\n",
    "strategy_df[\"sell_price\"] = sell_price\n",
    "strategy_df[\"bb_signal\"] = bb_signal\n",
    "\n",
    "display(strategy_df.head())\n",
    "display(strategy_df.tail())"
   ]
  },
  {
   "cell_type": "code",
   "execution_count": 21,
   "id": "c6516f8d-5805-4cc9-bcc3-4ee9b0f77e13",
   "metadata": {},
   "outputs": [
    {
     "data": {
      "image/png": "[encoded data removed]",
      "text/plain": [
       "<Figure size 432x288 with 1 Axes>"
      ]
     },
     "metadata": {
      "needs_background": "light"
     },
     "output_type": "display_data"
    },
    {
     "data": {
      "text/plain": [
       "<Figure size 1800x720 with 0 Axes>"
      ]
     },
     "metadata": {},
     "output_type": "display_data"
    }
   ],
   "source": [
    "spy_bb['close'].plot(label = 'CLOSE PRICES', alpha = 0.3)\n",
    "spy_bb['upper'].plot(label = 'UPPER BB', linestyle = '--', linewidth = 1, color = 'black')\n",
    "spy_bb['sma'].plot(label = 'MIDDLE BB', linestyle = '--', linewidth = 1.2, color = 'grey')\n",
    "spy_bb['lower'].plot(label = 'LOWER BB', linestyle = '--', linewidth = 1, color = 'black')\n",
    "\n",
    "plt.scatter(spy_bb.index, buy_price, marker = '^', color = 'green', label = 'BUY', s = 100)\n",
    "plt.scatter(spy_bb.index, sell_price, marker = 'v', color = 'red', label = 'SELL', s = 100)\n",
    "plt.title('SPY BB STRATEGY TRADING SIGNALS')\n",
    "plt.legend(loc = 'upper left')\n",
    "\n",
    "plt.figure(figsize=(25,10))\n",
    "\n",
    "plt.show()"
   ]
  },
  {
   "cell_type": "code",
   "execution_count": null,
   "id": "19de798b-89d7-487b-96bf-d7f04f5bc2ac",
   "metadata": {},
   "outputs": [],
   "source": []
  },
  {
   "cell_type": "code",
   "execution_count": null,
   "id": "3241da76-6225-4fb2-b9b1-979aab1ac452",
   "metadata": {},
   "outputs": [],
   "source": []
  },
  {
   "cell_type": "code",
   "execution_count": null,
   "id": "400d3d7e-950a-4a5f-a998-185b04ad3b08",
   "metadata": {},
   "outputs": [],
   "source": []
  }
 ],
 "metadata": {
  "kernelspec": {
   "display_name": "Python 3",
   "language": "python",
   "name": "python3"
  },
  "language_info": {
   "codemirror_mode": {
    "name": "ipython",
    "version": 3
   },
   "file_extension": ".py",
   "mimetype": "text/x-python",
   "name": "python",
   "nbconvert_exporter": "python",
   "pygments_lexer": "ipython3",
   "version": "3.7.10"
  }
 },
 "nbformat": 4,
 "nbformat_minor": 5
}
